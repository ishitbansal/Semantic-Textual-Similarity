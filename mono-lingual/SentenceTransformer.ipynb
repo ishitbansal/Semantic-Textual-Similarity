{
 "cells": [
  {
   "cell_type": "code",
   "execution_count": 1,
   "metadata": {},
   "outputs": [],
   "source": [
    "from sentence_transformers import SentenceTransformer, SentencesDataset, LoggingHandler, losses, InputExample\n",
    "from sentence_transformers.evaluation import EmbeddingSimilarityEvaluator\n",
    "from torch.utils.data import DataLoader\n",
    "import logging\n",
    "import numpy as np\n",
    "import pandas as pd\n",
    "import torch\n",
    "from scipy.stats import pearsonr\n",
    "from scipy import spatial"
   ]
  },
  {
   "cell_type": "code",
   "execution_count": 2,
   "metadata": {},
   "outputs": [],
   "source": [
    "def pearson_corr(y_true, y_pred):\n",
    "    corr, _ = pearsonr(y_true, y_pred)\n",
    "    return corr"
   ]
  },
  {
   "cell_type": "code",
   "execution_count": 3,
   "metadata": {},
   "outputs": [],
   "source": [
    "# Load pre-trained model\n",
    "model = SentenceTransformer('paraphrase-MiniLM-L6-v2')\n",
    "\n",
    "train_data = pd.read_csv('./data/train.csv')\n",
    "val_data = pd.read_csv('./data/validation.csv')\n",
    "test_data = pd.read_csv('./data/test.csv')\n",
    "\n",
    "train_data['sentence1'] = train_data['sentence1'].apply(eval)\n",
    "train_data['sentence2'] = train_data['sentence2'].apply(eval)\n",
    "val_data['sentence1'] = val_data['sentence1'].apply(eval)\n",
    "val_data['sentence2'] = val_data['sentence2'].apply(eval)\n",
    "test_data['sentence1'] = test_data['sentence1'].apply(eval)\n",
    "test_data['sentence2'] = test_data['sentence2'].apply(eval)"
   ]
  },
  {
   "cell_type": "code",
   "execution_count": 4,
   "metadata": {},
   "outputs": [],
   "source": [
    "# train_dataset.examples\n",
    "train_sentences1 = []\n",
    "train_sentences2 = []\n",
    "train_scores = []\n",
    "val_sentences1 = []\n",
    "val_sentences2 = []\n",
    "val_scores = []\n",
    "test_sentences1 = []\n",
    "test_sentences2 = []\n",
    "test_scores = []\n",
    "\n",
    "for i in range(len(train_data['sentence1'])):\n",
    "    sentence1 = train_data['sentence1'][i]\n",
    "    sentence2 = train_data['sentence2'][i]\n",
    "    score = train_data['score'][i]\n",
    "    train_sentences1.append(sentence1)\n",
    "    train_sentences2.append(sentence2)\n",
    "    train_scores.append(score)\n",
    "\n",
    "for i in range(len(val_data['sentence1'])):\n",
    "    sentence1 = val_data['sentence1'][i]\n",
    "    sentence2 = val_data['sentence2'][i]\n",
    "    score = val_data['score'][i]\n",
    "    val_sentences1.append(sentence1)\n",
    "    val_sentences2.append(sentence2)\n",
    "    val_scores.append(score)\n",
    "\n",
    "for i in range(len(test_data['sentence1'])):\n",
    "    sentence1 = test_data['sentence1'][i]\n",
    "    sentence2 = test_data['sentence2'][i]\n",
    "    score = test_data['score'][i]\n",
    "    test_sentences1.append(sentence1)\n",
    "    test_sentences2.append(sentence2)\n",
    "    test_scores.append(score)"
   ]
  },
  {
   "cell_type": "code",
   "execution_count": 5,
   "metadata": {},
   "outputs": [],
   "source": [
    "sentences1_train = [' '.join(sentence) for sentence in train_sentences1]\n",
    "sentences2_train = [' '.join(sentence) for sentence in train_sentences2]\n",
    "sentences1_val = [' '.join(sentence) for sentence in val_sentences1]\n",
    "sentences2_val = [' '.join(sentence) for sentence in val_sentences2]\n",
    "sentences1_test = [' '.join(sentence) for sentence in test_sentences1]\n",
    "sentences2_test = [' '.join(sentence) for sentence in test_sentences2]"
   ]
  },
  {
   "cell_type": "code",
   "execution_count": 6,
   "metadata": {},
   "outputs": [
    {
     "data": {
      "text/plain": [
       "(array([[ 0.7273679 ,  0.5809589 , -0.10241333, ...,  0.15410018,\n",
       "         -0.1584214 , -0.08950065],\n",
       "        [-0.08956437, -0.48312497,  0.4839292 , ...,  0.5616502 ,\n",
       "          0.26511225,  0.20353739],\n",
       "        [-0.53974545,  0.65282625, -0.34588847, ..., -0.18636337,\n",
       "          0.675012  ,  0.02623916],\n",
       "        ...,\n",
       "        [ 0.51400983,  0.32263702, -0.10364814, ..., -0.17705898,\n",
       "         -0.10197908,  0.25872764],\n",
       "        [-0.14184807,  0.25322706, -0.03215466, ...,  0.04245295,\n",
       "          0.01343592, -0.28098705],\n",
       "        [-0.37139413, -0.0188434 , -0.5944204 , ..., -0.20026802,\n",
       "          0.26640326, -0.3896915 ]], dtype=float32),\n",
       " array([[ 0.5792457 ,  0.4986233 , -0.09275138, ...,  0.02616616,\n",
       "         -0.42155725,  0.16717212],\n",
       "        [-0.1793691 , -0.4859043 ,  0.0205935 , ...,  0.2684416 ,\n",
       "         -0.02468947,  0.3557675 ],\n",
       "        [-0.63112575,  0.66310066, -0.53988034, ..., -0.21829115,\n",
       "          0.7638065 ,  0.14374717],\n",
       "        ...,\n",
       "        [-0.3908653 ,  0.46852383, -0.09005754, ..., -0.43392566,\n",
       "          0.49630952,  0.39585322],\n",
       "        [-0.9281602 , -0.7039892 , -0.48684892, ..., -0.24093683,\n",
       "         -0.5755272 ,  0.26033753],\n",
       "        [-0.68499064,  0.01240773,  0.10631415, ..., -0.2537442 ,\n",
       "         -0.8843538 ,  0.29643187]], dtype=float32))"
      ]
     },
     "execution_count": 6,
     "metadata": {},
     "output_type": "execute_result"
    }
   ],
   "source": [
    "train_embeddings1 = model.encode(sentences1_train)\n",
    "val_embeddings1 = model.encode(sentences1_val)\n",
    "test_embeddings1 = model.encode(sentences1_test)\n",
    "\n",
    "train_embeddings2 = model.encode(sentences2_train)\n",
    "val_embeddings2 = model.encode(sentences2_val)\n",
    "test_embeddings2 = model.encode(sentences2_test)\n",
    "\n",
    "train_embeddings1, train_embeddings2"
   ]
  },
  {
   "cell_type": "code",
   "execution_count": 7,
   "metadata": {},
   "outputs": [],
   "source": [
    "def get_sts_scores(emb1, emb2):\n",
    "    y_pred = []\n",
    "    for i in range(len(emb1)):\n",
    "        sim_score = 1 - spatial.distance.cosine(emb1[i], emb2[i])\n",
    "        y_pred.append((sim_score+1) * 2.5)\n",
    "    return y_pred"
   ]
  },
  {
   "cell_type": "code",
   "execution_count": 8,
   "metadata": {},
   "outputs": [
    {
     "name": "stdout",
     "output_type": "stream",
     "text": [
      "Pearson correlation coefficient: 0.78\n"
     ]
    }
   ],
   "source": [
    "train_scores_pred = get_sts_scores(train_embeddings1, train_embeddings2)\n",
    "corr = pearson_corr(train_scores, train_scores_pred)\n",
    "print(\"Pearson correlation coefficient: {:.2f}\".format(corr))"
   ]
  },
  {
   "cell_type": "code",
   "execution_count": 9,
   "metadata": {},
   "outputs": [
    {
     "name": "stdout",
     "output_type": "stream",
     "text": [
      "Pearson correlation coefficient: 0.82\n"
     ]
    }
   ],
   "source": [
    "val_scores_pred = get_sts_scores(val_embeddings1, val_embeddings2)\n",
    "corr = pearson_corr(val_scores, val_scores_pred)\n",
    "print(\"Pearson correlation coefficient: {:.2f}\".format(corr))"
   ]
  },
  {
   "cell_type": "code",
   "execution_count": 10,
   "metadata": {},
   "outputs": [
    {
     "name": "stdout",
     "output_type": "stream",
     "text": [
      "Pearson correlation coefficient: 0.76\n"
     ]
    }
   ],
   "source": [
    "test_scores_pred = get_sts_scores(test_embeddings1, test_embeddings2)\n",
    "corr = pearson_corr(test_scores, test_scores_pred)\n",
    "print(\"Pearson correlation coefficient: {:.2f}\".format(corr))"
   ]
  },
  {
   "cell_type": "markdown",
   "metadata": {},
   "source": [
    "### Fine Tuning"
   ]
  },
  {
   "cell_type": "code",
   "execution_count": 11,
   "metadata": {},
   "outputs": [],
   "source": [
    "train_examples = []\n",
    "for i in range(len(sentences1_train)):\n",
    "    train_examples.append(InputExample(texts=[train_embeddings1[i], train_embeddings2[i]], label=train_scores[i]))\n",
    "\n",
    "val_examples = []\n",
    "for i in range(len(sentences1_val)):\n",
    "    val_examples.append(InputExample(texts=[val_embeddings1[i], val_embeddings2[i]], label=val_scores[i]))\n",
    "\n",
    "test_examples = []\n",
    "for i in range(len(sentences1_test)):\n",
    "    test_examples.append(InputExample(texts=[test_embeddings1[i], test_embeddings2[i]], label=test_scores[i]))\n",
    "\n",
    "\n",
    "train_dataset = SentencesDataset(train_examples, model)\n",
    "train_dataloader = DataLoader(train_dataset, shuffle=True, batch_size=16)\n",
    "# train_loss = losses.CosineSimilarityLoss(model)\n",
    "train_loss = losses.BatchAllTripletLoss(model=model)"
   ]
  },
  {
   "cell_type": "code",
   "execution_count": 12,
   "metadata": {},
   "outputs": [
    {
     "data": {
      "application/vnd.jupyter.widget-view+json": {
       "model_id": "67d748fd1a484b2a8fe316ecd1552726",
       "version_major": 2,
       "version_minor": 0
      },
      "text/plain": [
       "Epoch:   0%|          | 0/10 [00:00<?, ?it/s]"
      ]
     },
     "metadata": {},
     "output_type": "display_data"
    },
    {
     "data": {
      "application/vnd.jupyter.widget-view+json": {
       "model_id": "870a9471b45348129d7d94b67d6f51c0",
       "version_major": 2,
       "version_minor": 0
      },
      "text/plain": [
       "Iteration:   0%|          | 0/360 [00:00<?, ?it/s]"
      ]
     },
     "metadata": {},
     "output_type": "display_data"
    },
    {
     "data": {
      "application/vnd.jupyter.widget-view+json": {
       "model_id": "7ba428cfa0444b43a09fab2b03794aba",
       "version_major": 2,
       "version_minor": 0
      },
      "text/plain": [
       "Iteration:   0%|          | 0/360 [00:00<?, ?it/s]"
      ]
     },
     "metadata": {},
     "output_type": "display_data"
    },
    {
     "data": {
      "application/vnd.jupyter.widget-view+json": {
       "model_id": "074c66506753485eb5d3208b315cc069",
       "version_major": 2,
       "version_minor": 0
      },
      "text/plain": [
       "Iteration:   0%|          | 0/360 [00:00<?, ?it/s]"
      ]
     },
     "metadata": {},
     "output_type": "display_data"
    },
    {
     "data": {
      "application/vnd.jupyter.widget-view+json": {
       "model_id": "948d6f2486eb47d0a8e80d3bfe32df70",
       "version_major": 2,
       "version_minor": 0
      },
      "text/plain": [
       "Iteration:   0%|          | 0/360 [00:00<?, ?it/s]"
      ]
     },
     "metadata": {},
     "output_type": "display_data"
    },
    {
     "data": {
      "application/vnd.jupyter.widget-view+json": {
       "model_id": "94b7dd930e7342f2ac69e574989916db",
       "version_major": 2,
       "version_minor": 0
      },
      "text/plain": [
       "Iteration:   0%|          | 0/360 [00:00<?, ?it/s]"
      ]
     },
     "metadata": {},
     "output_type": "display_data"
    },
    {
     "data": {
      "application/vnd.jupyter.widget-view+json": {
       "model_id": "8bbd864d0e0649e4b6aa005482b47bb0",
       "version_major": 2,
       "version_minor": 0
      },
      "text/plain": [
       "Iteration:   0%|          | 0/360 [00:00<?, ?it/s]"
      ]
     },
     "metadata": {},
     "output_type": "display_data"
    },
    {
     "data": {
      "application/vnd.jupyter.widget-view+json": {
       "model_id": "9fa51dda165c44c79c3962303708f270",
       "version_major": 2,
       "version_minor": 0
      },
      "text/plain": [
       "Iteration:   0%|          | 0/360 [00:00<?, ?it/s]"
      ]
     },
     "metadata": {},
     "output_type": "display_data"
    },
    {
     "data": {
      "application/vnd.jupyter.widget-view+json": {
       "model_id": "2721644de0e047dab2207f41f5d9c7e1",
       "version_major": 2,
       "version_minor": 0
      },
      "text/plain": [
       "Iteration:   0%|          | 0/360 [00:00<?, ?it/s]"
      ]
     },
     "metadata": {},
     "output_type": "display_data"
    },
    {
     "data": {
      "application/vnd.jupyter.widget-view+json": {
       "model_id": "cd404b74b29c4c488cad5eab315da0a8",
       "version_major": 2,
       "version_minor": 0
      },
      "text/plain": [
       "Iteration:   0%|          | 0/360 [00:00<?, ?it/s]"
      ]
     },
     "metadata": {},
     "output_type": "display_data"
    },
    {
     "data": {
      "application/vnd.jupyter.widget-view+json": {
       "model_id": "f38f5ea19175459f9e82629c9fb8f8bf",
       "version_major": 2,
       "version_minor": 0
      },
      "text/plain": [
       "Iteration:   0%|          | 0/360 [00:00<?, ?it/s]"
      ]
     },
     "metadata": {},
     "output_type": "display_data"
    }
   ],
   "source": [
    "evaluator = EmbeddingSimilarityEvaluator.from_input_examples(val_examples, name='sts-validation')\n",
    "# Fine-tune the model\n",
    "model.fit(train_objectives=[(train_dataloader, train_loss)], epochs=10)"
   ]
  },
  {
   "cell_type": "code",
   "execution_count": 13,
   "metadata": {},
   "outputs": [
    {
     "data": {
      "text/plain": [
       "(array([[ 0.78093404,  0.53268516, -0.07050468, ...,  0.11919867,\n",
       "         -0.20796065, -0.15117025],\n",
       "        [-0.03922986, -0.5683854 ,  0.5405783 , ...,  0.6088767 ,\n",
       "          0.3047607 ,  0.17288359],\n",
       "        [-0.46371073,  0.6312734 , -0.30159017, ..., -0.24200507,\n",
       "          0.68020475,  0.0210998 ],\n",
       "        ...,\n",
       "        [ 0.4366062 ,  0.27964896, -0.0187587 , ..., -0.16782968,\n",
       "         -0.05177963,  0.17690502],\n",
       "        [-0.11956879,  0.27475452,  0.06068354, ...,  0.03580553,\n",
       "         -0.10370468, -0.2319527 ],\n",
       "        [-0.30826476, -0.11164042, -0.53258145, ..., -0.22514361,\n",
       "          0.2261619 , -0.40871456]], dtype=float32),\n",
       " array([[ 0.62934506,  0.48844576, -0.08590074, ..., -0.03293747,\n",
       "         -0.46402526,  0.12816106],\n",
       "        [-0.1644081 , -0.56664217,  0.02702678, ...,  0.26746607,\n",
       "         -0.0028876 ,  0.34831822],\n",
       "        [-0.55743027,  0.62024754, -0.4802386 , ..., -0.28644818,\n",
       "          0.7474572 ,  0.13868213],\n",
       "        ...,\n",
       "        [-0.41019505,  0.35224232,  0.06470533, ..., -0.41246653,\n",
       "          0.51182276,  0.38080376],\n",
       "        [-0.8677769 , -0.71495384, -0.32618284, ..., -0.12385736,\n",
       "         -0.6041774 ,  0.23930821],\n",
       "        [-0.70116335, -0.00187586,  0.27249014, ..., -0.28780714,\n",
       "         -0.8490808 ,  0.33332872]], dtype=float32))"
      ]
     },
     "execution_count": 13,
     "metadata": {},
     "output_type": "execute_result"
    }
   ],
   "source": [
    "train_embeddings1_new = model.encode(sentences1_train)\n",
    "val_embeddings1_new = model.encode(sentences1_val)\n",
    "test_embeddings1_new = model.encode(sentences1_test)\n",
    "\n",
    "train_embeddings2_new = model.encode(sentences2_train)\n",
    "val_embeddings2_new = model.encode(sentences2_val)\n",
    "test_embeddings2_new = model.encode(sentences2_test)\n",
    "\n",
    "train_embeddings1_new, train_embeddings2_new"
   ]
  },
  {
   "cell_type": "code",
   "execution_count": 14,
   "metadata": {},
   "outputs": [
    {
     "name": "stdout",
     "output_type": "stream",
     "text": [
      "Pearson correlation coefficient: 0.78\n"
     ]
    }
   ],
   "source": [
    "train_scores_pred_new = get_sts_scores(train_embeddings1_new, train_embeddings2_new)\n",
    "corr = pearson_corr(train_scores, train_scores_pred_new)\n",
    "print(\"Pearson correlation coefficient: {:.2f}\".format(corr))"
   ]
  },
  {
   "cell_type": "code",
   "execution_count": 15,
   "metadata": {},
   "outputs": [
    {
     "name": "stdout",
     "output_type": "stream",
     "text": [
      "Pearson correlation coefficient: 0.82\n"
     ]
    }
   ],
   "source": [
    "val_scores_pred_new = get_sts_scores(val_embeddings1_new, val_embeddings2_new)\n",
    "corr = pearson_corr(val_scores, val_scores_pred_new)\n",
    "print(\"Pearson correlation coefficient: {:.2f}\".format(corr))"
   ]
  },
  {
   "cell_type": "code",
   "execution_count": 16,
   "metadata": {},
   "outputs": [
    {
     "name": "stdout",
     "output_type": "stream",
     "text": [
      "Pearson correlation coefficient: 0.76\n"
     ]
    }
   ],
   "source": [
    "test_scores_pred_new = get_sts_scores(test_embeddings1_new, test_embeddings2_new)\n",
    "corr = pearson_corr(test_scores, test_scores_pred_new)\n",
    "print(\"Pearson correlation coefficient: {:.2f}\".format(corr))"
   ]
  },
  {
   "cell_type": "code",
   "execution_count": 17,
   "metadata": {},
   "outputs": [],
   "source": [
    "model.save('Sentence_Transformer_fine-tuned')"
   ]
  }
 ],
 "metadata": {
  "kernelspec": {
   "display_name": "Python 3",
   "language": "python",
   "name": "python3"
  },
  "language_info": {
   "codemirror_mode": {
    "name": "ipython",
    "version": 3
   },
   "file_extension": ".py",
   "mimetype": "text/x-python",
   "name": "python",
   "nbconvert_exporter": "python",
   "pygments_lexer": "ipython3",
   "version": "3.10.12"
  }
 },
 "nbformat": 4,
 "nbformat_minor": 2
}
